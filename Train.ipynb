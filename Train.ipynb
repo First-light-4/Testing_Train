{
 "cells": [
  {
   "cell_type": "code",
   "execution_count": 6,
   "outputs": [],
   "source": [
    "class Train():\n",
    "\n",
    "    def __init__(self, lokomotiv, carriage):\n",
    "        self._lokomotiv = lokomotiv\n",
    "        self.carriage = carriage\n",
    "\n",
    "    def info(self):\n",
    "        return f'Номер Локомотива: {self._lokomotiv}\\nКолличество вагонов: {self.carriage}'\n",
    "\n",
    "    def station(self, plus_minus_cargo):\n",
    "        self.plus_minus_cargo = plus_minus_cargo\n",
    "        self.carriage += self.plus_minus_cargo\n",
    "        return self.carriage\n",
    "\n",
    "class Cargo_carriage(Train):\n",
    "\n",
    "    def __init__(self, lokomotiv, carriage, amount):\n",
    "        super().__init__(lokomotiv, carriage)\n",
    "        self.amount = amount\n",
    "\n",
    "    def info_cargo(self):\n",
    "        return self.amount\n",
    "\n",
    "    # def station_car(self, plus_minus):\n",
    "    #\n",
    "\n",
    "class Passenger_carriage(Cargo_carriage):\n",
    "\n",
    "    def __init__(self, lokomotiv, carriage, amount):\n",
    "        super().__init__(lokomotiv, carriage)\n",
    "        self.amount = amount\n",
    "\n",
    "    def info_cpassenger(self):\n",
    "        return self.amount"
   ],
   "metadata": {
    "collapsed": false,
    "pycharm": {
     "name": "#%%\n"
    }
   }
  },
  {
   "cell_type": "code",
   "execution_count": 4,
   "outputs": [
    {
     "name": "stdout",
     "output_type": "stream",
     "text": [
      "Первый поезд:\n",
      "Номер Локомотива: 565189\n",
      "Колличество вагонов: 14\n",
      "Первая станция:\n",
      "У него из 28: 8 грузовых\n",
      "Вторая станция:\n",
      "Номер Локомотива: 565189\n",
      "Колличество вагонов: 28\n",
      "У него из 16: 3 грузовых\n"
     ]
    }
   ],
   "source": [
    "# Информация о первом поезде\n",
    "print('Первый поезд:')\n",
    "lokomotiv = 565189\n",
    "carriage = 14\n",
    "train = Train(lokomotiv, carriage)\n",
    "\n",
    "# Информация после проезда первой станции\n",
    "print(f'{train.info()}\\nПервая станция:')\n",
    "cargo_carriage = Cargo_carriage(lokomotiv, carriage, 8)\n",
    "print(f'У него из {train.station(5)}: {cargo_carriage.info_cargo()} грузовых')\n",
    "passenger_carriage = Passenger_carriage()\n",
    "print(f'У него из {train.station(5)}: {cargo_carriage.info_cargo()} грузовых')\n",
    "\n",
    "\n",
    "# Информация после проезда второй станции\n",
    "print(f'Вторая станция:\\n{train.info()}')\n",
    "cargo_carriage = Cargo_carriage(lokomotiv, carriage, 3)\n",
    "print(f'У него из {train.station(-10)}: {cargo_carriage.info_cargo()} грузовых')"
   ],
   "metadata": {
    "collapsed": false,
    "pycharm": {
     "name": "#%%\n"
    }
   }
  },
  {
   "cell_type": "code",
   "execution_count": 5,
   "outputs": [
    {
     "name": "stdout",
     "output_type": "stream",
     "text": [
      "\n",
      "Второй поезд:\n",
      "Номер Локомотива: 189634\n",
      "Колличество вагонов: 25\n",
      "Первая станция:\n",
      "У него из 32: 8 грузовых\n",
      "Вторая станция:\n",
      "Номер Локомотива: 189634\n",
      "Колличество вагонов: 32\n",
      "У него из 46: 3 грузовых\n"
     ]
    }
   ],
   "source": [
    "# Информация о втором поезде\n",
    "print(f'\\nВторой поезд:')\n",
    "lokomotiv = 189634\n",
    "carriage = 25\n",
    "train = Train(lokomotiv, carriage)\n",
    "\n",
    "# Информация после проезда первой станции\n",
    "print(f'{train.info()}\\nПервая станция:')\n",
    "cargo_carriage = Cargo_carriage(lokomotiv, carriage, 8)\n",
    "print(f'У него из {train.station(9)}: {cargo_carriage.info_cargo()} грузовых')\n",
    "\n",
    "# Информация после проезда второй станции\n",
    "print(f'Вторая станция:\\n{train.info()}')\n",
    "cargo_carriage = Cargo_carriage(lokomotiv, carriage, 3)\n",
    "print(f'У него из {train.station(10)}: {cargo_carriage.info_cargo()} грузовых')"
   ],
   "metadata": {
    "collapsed": false,
    "pycharm": {
     "name": "#%%\n"
    }
   }
  }
 ],
 "metadata": {
  "kernelspec": {
   "display_name": "Python 3",
   "language": "python",
   "name": "python3"
  },
  "language_info": {
   "codemirror_mode": {
    "name": "ipython",
    "version": 2
   },
   "file_extension": ".py",
   "mimetype": "text/x-python",
   "name": "python",
   "nbconvert_exporter": "python",
   "pygments_lexer": "ipython2",
   "version": "2.7.6"
  }
 },
 "nbformat": 4,
 "nbformat_minor": 0
}